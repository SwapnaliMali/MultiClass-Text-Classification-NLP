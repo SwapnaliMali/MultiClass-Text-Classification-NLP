{
 "cells": [
  {
   "cell_type": "code",
   "execution_count": 1,
   "metadata": {},
   "outputs": [],
   "source": [
    "import requests\n",
    "import nltk\n",
    "import csv\n",
    "from bs4 import BeautifulSoup\n",
    "import re\n",
    "import string\n",
    "import pandas as pd\n",
    "import matplotlib.pyplot as plt\n",
    "import numpy as np\n",
    "from collections import Counter"
   ]
  },
  {
   "cell_type": "code",
   "execution_count": 2,
   "metadata": {},
   "outputs": [
    {
     "name": "stdout",
     "output_type": "stream",
     "text": [
      "['home', 'latest', 'travel', 'health', 'training', 'material', 'awareness', 'inspirational', 'series', 'service', 'personnel', 'india', 'year', 'towards', 'healthy', 'one', 'screen', 'reader', 'main', 'site', 'ministry', 'family', 'welfare', 'government', 'search', 'number', 'toll', 'free', 'union', 'august', 'ist', 'status', 'change', 'since', 'yesterday', 'active', 'total', 'done', 'previous', 'day', 'technical', 'enquiry', 'respect', 'may', 'kindly', 'extension', 'package', 'insurance', 'fighting', 'period', 'days', 'beyond', 'original', 'preventive', 'contain', 'spread', 'yoga', 'revised', 'international', 'mental', 'talk', 'pandemic', 'tobacco', 'use', 'advisory', 'gated', 'residential', 'click', 'expand', 'name', 'state', 'domestic', 'bus', 'major', 'minor', 'dealing', 'additional', 'standard', 'operating', 'procedure', 'passenger', 'movement', 'post', 'disembarkation', 'traffic', 'land', 'check', 'consolidated', 'march', 'visa', 'bureau', 'immigration', 'meeting', 'high', 'level', 'group', 'review', 'current', 'prevention', 'management', 'sop', 'cruise', 'indian', 'isolation', 'related', 'care', 'support', 'jointly', 'prepared', 'department', 'national', 'institute', 'times', 'guidance', 'general', 'medical', 'psychosocial', 'audio', 'visual', 'stigma', 'safely', 'quit', 'hindi', 'video', 'stress', 'meditation', 'english', 'stop', 'drinking', 'depression', 'social', 'associated', 'knockdown', 'covid', 'elderly', 'among', 'practical', 'take', 'stay', 'minding', 'manage', 'well', 'outbreak', 'little', 'desirous', 'setting', 'small', 'facility', 'resident', 'rate', 'test', 'central', 'attendance', 'religious', 'worship', 'shopping', 'hospitality', 'workplace', 'strategy', 'testing', 'discharge', 'policy', 'quarantine', 'abroad', 'suspect', 'confirmed', 'private', 'disinfectant', 'people', 'cum', 'bid', 'document', 'procurement', 'oxygen', 'cylinder', 'urgent', 'basis', 'situation', 'dialysis', 'scheme', 'advise', 'immunity', 'self', 'crisis', 'handling', 'treatment', 'disposal', 'waste', 'manual', 'homemade', 'protective', 'cover', 'face', 'mouth', 'letter', 'secretary', 'human', 'resource', 'development', 'light', 'candle', 'april', 'minute', 'order', 'delhi', 'house', 'lock', 'population', 'disinfection', 'common', 'public', 'office', 'special', 'sanction', 'view', 'corona', 'virus', 'gazette', 'notification', 'schedule', 'drug', 'sold', 'prescription', 'press', 'note', 'finance', 'dead', 'body', 'mass', 'clinical', 'protocol', 'interim', 'blood', 'transfusion', 'june', 'working', 'hospital', 'safe', 'practice', 'eye', 'protection', 'essential', 'prophylaxis', 'infection', 'immunization', 'list', 'coveralls', 'accredited', 'available', 'following', 'dental', 'rational', 'personal', 'equipment', 'approach', 'based', 'sampling', 'surveillance', 'frequently', 'detection', 'case', 'modification', 'medicine', 'rapid', 'antibody', 'new', 'feasibility', 'molecular', 'coverage', 'taking', 'nation', 'gif', 'pregnancy', 'labour', 'voluntary', 'donation', 'scenario', 'different', 'appropriate', 'ventilator', 'transporting', 'allocation', 'nursing', 'part', 'delivery', 'consumer', 'food', 'distribution', 'ensure', 'availability', 'ethyl', 'hand', 'council', 'research', 'affected', 'novel', 'mock', 'drill', 'preparedness', 'control', 'sample', 'collection', 'transportation', 'obstetric', 'platform', 'mechanical', 'ventilation', 'second', 'master', 'ventilatory', 'epidemiology', 'district', 'wise', 'login', 'antigen', 'cluster', 'containment', 'plan', 'large', 'response', 'urban', 'safety', 'regarding', 'promotion', 'effective', 'water', 'due', 'security', 'staff', 'exemption', 'fishing', 'funds', 'emergency', 'system', 'rural', 'taken', 'address', 'room', 'contact', 'industrial', 'association', 'provide', 'chief', 'connection', 'supreme', 'court', 'migrant', 'trained', 'youth', 'dayal', 'preliminary', 'stakeholder', 'engagement', 'project', 'environmental', 'commitment', 'goods', 'pharmaceutical', 'authority', 'cabinet', 'temporary', 'need', 'stringent', 'annexure', 'shipping', 'smooth', 'carrying', 'model', 'local', 'transmission', 'authorized', 'prohibitory', 'imposing', 'higher', 'education', 'sports', 'production', 'quality', 'educational', 'examination', 'assistance', 'disaster', 'fund', 'wake', 'act', 'mark', 'biometric', 'reimbursement', 'validity', 'card', 'stand', 'together', 'counter', 'discrimination', 'supporting', 'extending', 'showing', 'sanitation', 'helping', 'fight', 'battle', 'thanks', 'illustrative', 'guide', 'spit', 'increase', 'risk', 'advocate', 'spitting', 'normal', 'mild', 'bank', 'myth', 'thank', 'front', 'line', 'punjabi', 'bengali', 'marathi', 'malayalam', 'tamil', 'gujrati', 'information', 'necessary', 'poster', 'informed', 'alert', 'initiative', 'develop', 'digital', 'bridge', 'today', 'play', 'store', 'pertaining', 'basic', 'washing', 'market', 'place', 'community', 'leaflet', 'ready', 'wear', 'mask', 'protect', 'hygiene', 'suspected', 'worker', 'facilitator', 'seven', 'sessions', 'pocket', 'book', 'template', 'get', 'tested', 'role', 'kids', 'comic', 'correct', 'traveling', 'radio', 'tribute', 'around', 'discriminate', 'see', 'disclaimer', 'content', 'goi', 'design']\n"
     ]
    }
   ],
   "source": [
    "url='https://www.mohfw.gov.in/'\n",
    "response=requests.get(url)\n",
    "soup=BeautifulSoup(response.text,parser='html')\n",
    "\n",
    "stopwords = nltk.corpus.stopwords.words('english')\n",
    "language_whitelist = ['en']\n",
    "english_vocab = set(w.lower() for w in nltk.corpus.words.words())\n",
    "\n",
    "for script in soup([\"script\", \"style\"]):\n",
    "    script.extract()\n",
    "    text = soup.get_text()\n",
    "    lines = (line.strip() for line in text.splitlines())\n",
    "    chunks = (phrase.strip() for line in lines for phrase in line.split(\"  \"))\n",
    "    text = '\\n'.join(chunk.lower() for chunk in chunks if chunk)\n",
    "    filter_text = \" \".join(w for w in nltk.word_tokenize(text) \\\n",
    "         if w.lower() in english_vocab)\n",
    "\n",
    "    tokens = nltk.word_tokenize(filter_text)\n",
    "\n",
    "    allWordExceptStopDist = nltk.FreqDist(\n",
    "        w.lower() for w in tokens if w not in stopwords and len(w) >= 3 and w[0])\n",
    "    \n",
    "    \n",
    "    words = [i for i in allWordExceptStopDist]\n",
    "\n",
    "    if len(words) > 0:\n",
    "        continue\n",
    "print(words)\n",
    "\n"
   ]
  },
  {
   "cell_type": "code",
   "execution_count": 3,
   "metadata": {},
   "outputs": [
    {
     "name": "stdout",
     "output_type": "stream",
     "text": [
      "[('home', 'NN'), ('latest', 'JJS'), ('travel', 'NN'), ('health', 'NN'), ('training', 'VBG'), ('material', 'NN'), ('awareness', 'NN'), ('inspirational', 'JJ'), ('series', 'NN'), ('service', 'NN'), ('personnel', 'NNS'), ('india', 'VBP'), ('year', 'NN'), ('towards', 'NNS'), ('healthy', 'JJ'), ('one', 'CD'), ('screen', 'NN'), ('reader', 'NN'), ('main', 'JJ'), ('site', 'NN'), ('ministry', 'NN'), ('family', 'NN'), ('welfare', 'NN'), ('government', 'NN'), ('search', 'NN'), ('number', 'NN'), ('toll', 'NN'), ('free', 'JJ'), ('union', 'NN'), ('august', 'NN'), ('ist', 'NN'), ('status', 'NN'), ('change', 'NN'), ('since', 'IN'), ('yesterday', 'NN'), ('active', 'JJ'), ('total', 'NN'), ('done', 'VBN'), ('previous', 'JJ'), ('day', 'NN'), ('technical', 'JJ'), ('enquiry', 'NN'), ('respect', 'NN'), ('may', 'MD'), ('kindly', 'VB'), ('extension', 'NN'), ('package', 'NN'), ('insurance', 'NN'), ('fighting', 'VBG'), ('period', 'NN'), ('days', 'NNS'), ('beyond', 'IN'), ('original', 'JJ'), ('preventive', 'JJ'), ('contain', 'NN'), ('spread', 'NN'), ('yoga', 'NN'), ('revised', 'VBD'), ('international', 'JJ'), ('mental', 'JJ'), ('talk', 'NN'), ('pandemic', 'IN'), ('tobacco', 'NN'), ('use', 'NN'), ('advisory', 'JJ'), ('gated', 'VBN'), ('residential', 'JJ'), ('click', 'NN'), ('expand', 'NN'), ('name', 'NN'), ('state', 'NN'), ('domestic', 'JJ'), ('bus', 'NN'), ('major', 'JJ'), ('minor', 'JJ'), ('dealing', 'VBG'), ('additional', 'JJ'), ('standard', 'NN'), ('operating', 'VBG'), ('procedure', 'NN'), ('passenger', 'NN'), ('movement', 'NN'), ('post', 'NN'), ('disembarkation', 'NN'), ('traffic', 'NN'), ('land', 'NN'), ('check', 'NN'), ('consolidated', 'VBD'), ('march', 'JJ'), ('visa', 'NN'), ('bureau', 'NN'), ('immigration', 'NN'), ('meeting', 'NN'), ('high', 'JJ'), ('level', 'NN'), ('group', 'NN'), ('review', 'VBP'), ('current', 'JJ'), ('prevention', 'NN'), ('management', 'NN'), ('sop', 'NN'), ('cruise', 'NN'), ('indian', 'JJ'), ('isolation', 'NN'), ('related', 'VBN'), ('care', 'NN'), ('support', 'NN'), ('jointly', 'RB'), ('prepared', 'VBN'), ('department', 'NN'), ('national', 'JJ'), ('institute', 'NN'), ('times', 'NNS'), ('guidance', 'RB'), ('general', 'JJ'), ('medical', 'JJ'), ('psychosocial', 'NN'), ('audio', 'NN'), ('visual', 'JJ'), ('stigma', 'NN'), ('safely', 'RB'), ('quit', 'VBD'), ('hindi', 'JJ'), ('video', 'NN'), ('stress', 'NN'), ('meditation', 'NN'), ('english', 'JJ'), ('stop', 'NN'), ('drinking', 'NN'), ('depression', 'NN'), ('social', 'JJ'), ('associated', 'VBN'), ('knockdown', 'JJ'), ('covid', 'NNS'), ('elderly', 'RB'), ('among', 'IN'), ('practical', 'JJ'), ('take', 'NN'), ('stay', 'NN'), ('minding', 'VBG'), ('manage', 'NN'), ('well', 'RB'), ('outbreak', 'RB'), ('little', 'JJ'), ('desirous', 'JJ'), ('setting', 'VBG'), ('small', 'JJ'), ('facility', 'NN'), ('resident', 'NN'), ('rate', 'NN'), ('test', 'NN'), ('central', 'JJ'), ('attendance', 'NN'), ('religious', 'JJ'), ('worship', 'NN'), ('shopping', 'NN'), ('hospitality', 'NN'), ('workplace', 'NN'), ('strategy', 'NN'), ('testing', 'VBG'), ('discharge', 'NN'), ('policy', 'NN'), ('quarantine', 'NN'), ('abroad', 'RB'), ('suspect', 'JJ'), ('confirmed', 'JJ'), ('private', 'JJ'), ('disinfectant', 'NN'), ('people', 'NNS'), ('cum', 'VBP'), ('bid', 'NN'), ('document', 'NN'), ('procurement', 'NN'), ('oxygen', 'NN'), ('cylinder', 'NN'), ('urgent', 'JJ'), ('basis', 'NN'), ('situation', 'NN'), ('dialysis', 'NN'), ('scheme', 'NN'), ('advise', 'NN'), ('immunity', 'NN'), ('self', 'PRP'), ('crisis', 'NN'), ('handling', 'VBG'), ('treatment', 'NN'), ('disposal', 'NN'), ('waste', 'NN'), ('manual', 'JJ'), ('homemade', 'NN'), ('protective', 'JJ'), ('cover', 'NN'), ('face', 'NN'), ('mouth', 'JJ'), ('letter', 'NN'), ('secretary', 'NN'), ('human', 'JJ'), ('resource', 'NN'), ('development', 'NN'), ('light', 'NN'), ('candle', 'NNS'), ('april', 'VBP'), ('minute', 'JJ'), ('order', 'NN'), ('delhi', 'NN'), ('house', 'NN'), ('lock', 'NN'), ('population', 'NN'), ('disinfection', 'NN'), ('common', 'JJ'), ('public', 'JJ'), ('office', 'NN'), ('special', 'JJ'), ('sanction', 'NN'), ('view', 'NN'), ('corona', 'VBP'), ('virus', 'NN'), ('gazette', 'NN'), ('notification', 'NN'), ('schedule', 'NN'), ('drug', 'NN'), ('sold', 'VBN'), ('prescription', 'NN'), ('press', 'NN'), ('note', 'NN'), ('finance', 'NN'), ('dead', 'JJ'), ('body', 'NN'), ('mass', 'NN'), ('clinical', 'JJ'), ('protocol', 'NN'), ('interim', 'JJ'), ('blood', 'NN'), ('transfusion', 'NN'), ('june', 'NN'), ('working', 'VBG'), ('hospital', 'NN'), ('safe', 'JJ'), ('practice', 'NN'), ('eye', 'NN'), ('protection', 'NN'), ('essential', 'JJ'), ('prophylaxis', 'NN'), ('infection', 'NN'), ('immunization', 'NN'), ('list', 'NN'), ('coveralls', 'NNS'), ('accredited', 'VBD'), ('available', 'JJ'), ('following', 'JJ'), ('dental', 'JJ'), ('rational', 'JJ'), ('personal', 'JJ'), ('equipment', 'NN'), ('approach', 'NN'), ('based', 'VBN'), ('sampling', 'VBG'), ('surveillance', 'NN'), ('frequently', 'RB'), ('detection', 'NN'), ('case', 'NN'), ('modification', 'NN'), ('medicine', 'NN'), ('rapid', 'JJ'), ('antibody', 'NN'), ('new', 'JJ'), ('feasibility', 'NN'), ('molecular', 'JJ'), ('coverage', 'NN'), ('taking', 'VBG'), ('nation', 'NN'), ('gif', 'NN'), ('pregnancy', 'NN'), ('labour', 'VBP'), ('voluntary', 'JJ'), ('donation', 'NN'), ('scenario', 'NN'), ('different', 'JJ'), ('appropriate', 'JJ'), ('ventilator', 'NN'), ('transporting', 'VBG'), ('allocation', 'NN'), ('nursing', 'VBG'), ('part', 'NN'), ('delivery', 'NN'), ('consumer', 'NN'), ('food', 'NN'), ('distribution', 'NN'), ('ensure', 'VB'), ('availability', 'NN'), ('ethyl', 'JJ'), ('hand', 'NN'), ('council', 'NN'), ('research', 'NN'), ('affected', 'VBD'), ('novel', 'JJ'), ('mock', 'NN'), ('drill', 'VB'), ('preparedness', 'JJ'), ('control', 'NN'), ('sample', 'NN'), ('collection', 'NN'), ('transportation', 'NN'), ('obstetric', 'JJ'), ('platform', 'NN'), ('mechanical', 'JJ'), ('ventilation', 'NN'), ('second', 'JJ'), ('master', 'NN'), ('ventilatory', 'NN'), ('epidemiology', 'NN'), ('district', 'NN'), ('wise', 'NN'), ('login', 'NN'), ('antigen', 'NN'), ('cluster', 'NN'), ('containment', 'NN'), ('plan', 'NN'), ('large', 'JJ'), ('response', 'NN'), ('urban', 'JJ'), ('safety', 'NN'), ('regarding', 'VBG'), ('promotion', 'NN'), ('effective', 'JJ'), ('water', 'NN'), ('due', 'JJ'), ('security', 'NN'), ('staff', 'NN'), ('exemption', 'NN'), ('fishing', 'NN'), ('funds', 'NNS'), ('emergency', 'NN'), ('system', 'NN'), ('rural', 'JJ'), ('taken', 'VBN'), ('address', 'NN'), ('room', 'NN'), ('contact', 'NN'), ('industrial', 'JJ'), ('association', 'NN'), ('provide', 'VBP'), ('chief', 'JJ'), ('connection', 'NN'), ('supreme', 'NN'), ('court', 'NN'), ('migrant', 'NN'), ('trained', 'VBD'), ('youth', 'RB'), ('dayal', 'JJ'), ('preliminary', 'JJ'), ('stakeholder', 'NN'), ('engagement', 'NN'), ('project', 'NN'), ('environmental', 'JJ'), ('commitment', 'JJ'), ('goods', 'NNS'), ('pharmaceutical', 'JJ'), ('authority', 'NN'), ('cabinet', 'NN'), ('temporary', 'JJ'), ('need', 'VBP'), ('stringent', 'JJ'), ('annexure', 'NN'), ('shipping', 'VBG'), ('smooth', 'JJ'), ('carrying', 'VBG'), ('model', 'NN'), ('local', 'JJ'), ('transmission', 'NN'), ('authorized', 'VBD'), ('prohibitory', 'NN'), ('imposing', 'VBG'), ('higher', 'JJR'), ('education', 'NN'), ('sports', 'NNS'), ('production', 'NN'), ('quality', 'NN'), ('educational', 'JJ'), ('examination', 'NN'), ('assistance', 'NN'), ('disaster', 'NN'), ('fund', 'NN'), ('wake', 'NN'), ('act', 'NN'), ('mark', 'NN'), ('biometric', 'JJ'), ('reimbursement', 'NN'), ('validity', 'NN'), ('card', 'NN'), ('stand', 'VBP'), ('together', 'RB'), ('counter', 'JJ'), ('discrimination', 'NN'), ('supporting', 'VBG'), ('extending', 'VBG'), ('showing', 'VBG'), ('sanitation', 'NN'), ('helping', 'VBG'), ('fight', 'JJ'), ('battle', 'NN'), ('thanks', 'NNS'), ('illustrative', 'JJ'), ('guide', 'NN'), ('spit', 'NN'), ('increase', 'NN'), ('risk', 'NN'), ('advocate', 'VBP'), ('spitting', 'VBG'), ('normal', 'JJ'), ('mild', 'JJ'), ('bank', 'NN'), ('myth', 'NN'), ('thank', 'JJ'), ('front', 'JJ'), ('line', 'NN'), ('punjabi', 'NN'), ('bengali', 'NN'), ('marathi', 'NN'), ('malayalam', 'NN'), ('tamil', 'NN'), ('gujrati', 'NN'), ('information', 'NN'), ('necessary', 'JJ'), ('poster', 'NN'), ('informed', 'VBN'), ('alert', 'JJ'), ('initiative', 'JJ'), ('develop', 'NN'), ('digital', 'JJ'), ('bridge', 'NN'), ('today', 'NN'), ('play', 'VBP'), ('store', 'NN'), ('pertaining', 'NN'), ('basic', 'JJ'), ('washing', 'VBG'), ('market', 'NN'), ('place', 'NN'), ('community', 'NN'), ('leaflet', 'VBP'), ('ready', 'JJ'), ('wear', 'NN'), ('mask', 'NN'), ('protect', 'VBP'), ('hygiene', 'NN'), ('suspected', 'VBN'), ('worker', 'NN'), ('facilitator', 'NN'), ('seven', 'CD'), ('sessions', 'NNS'), ('pocket', 'VBP'), ('book', 'NN'), ('template', 'NN'), ('get', 'NN'), ('tested', 'VBN'), ('role', 'NN'), ('kids', 'NNS'), ('comic', 'JJ'), ('correct', 'JJ'), ('traveling', 'VBG'), ('radio', 'NN'), ('tribute', 'NN'), ('around', 'IN'), ('discriminate', 'NN'), ('see', 'VBP'), ('disclaimer', 'JJ'), ('content', 'NN'), ('goi', 'NN'), ('design', 'NN')]\n"
     ]
    }
   ],
   "source": [
    "#pos tagging\n",
    "tags=nltk.pos_tag(words)\n",
    "#tags\n",
    "print(tags)\n"
   ]
  },
  {
   "cell_type": "code",
   "execution_count": 4,
   "metadata": {},
   "outputs": [
    {
     "name": "stdout",
     "output_type": "stream",
     "text": [
      "{'home': 'NN', 'latest': 'JJS', 'travel': 'NN', 'health': 'NN', 'training': 'VBG', 'material': 'NN', 'awareness': 'NN', 'inspirational': 'JJ', 'series': 'NN', 'service': 'NN', 'personnel': 'NNS', 'india': 'VBP', 'year': 'NN', 'towards': 'NNS', 'healthy': 'JJ', 'one': 'CD', 'screen': 'NN', 'reader': 'NN', 'main': 'JJ', 'site': 'NN', 'ministry': 'NN', 'family': 'NN', 'welfare': 'NN', 'government': 'NN', 'search': 'NN', 'number': 'NN', 'toll': 'NN', 'free': 'JJ', 'union': 'NN', 'august': 'NN', 'ist': 'NN', 'status': 'NN', 'change': 'NN', 'since': 'IN', 'yesterday': 'NN', 'active': 'JJ', 'total': 'NN', 'done': 'VBN', 'previous': 'JJ', 'day': 'NN', 'technical': 'JJ', 'enquiry': 'NN', 'respect': 'NN', 'may': 'MD', 'kindly': 'VB', 'extension': 'NN', 'package': 'NN', 'insurance': 'NN', 'fighting': 'VBG', 'period': 'NN', 'days': 'NNS', 'beyond': 'IN', 'original': 'JJ', 'preventive': 'JJ', 'contain': 'NN', 'spread': 'NN', 'yoga': 'NN', 'revised': 'VBD', 'international': 'JJ', 'mental': 'JJ', 'talk': 'NN', 'pandemic': 'IN', 'tobacco': 'NN', 'use': 'NN', 'advisory': 'JJ', 'gated': 'VBN', 'residential': 'JJ', 'click': 'NN', 'expand': 'NN', 'name': 'NN', 'state': 'NN', 'domestic': 'JJ', 'bus': 'NN', 'major': 'JJ', 'minor': 'JJ', 'dealing': 'VBG', 'additional': 'JJ', 'standard': 'NN', 'operating': 'VBG', 'procedure': 'NN', 'passenger': 'NN', 'movement': 'NN', 'post': 'NN', 'disembarkation': 'NN', 'traffic': 'NN', 'land': 'NN', 'check': 'NN', 'consolidated': 'VBD', 'march': 'JJ', 'visa': 'NN', 'bureau': 'NN', 'immigration': 'NN', 'meeting': 'NN', 'high': 'JJ', 'level': 'NN', 'group': 'NN', 'review': 'VBP', 'current': 'JJ', 'prevention': 'NN', 'management': 'NN', 'sop': 'NN', 'cruise': 'NN', 'indian': 'JJ', 'isolation': 'NN', 'related': 'VBN', 'care': 'NN', 'support': 'NN', 'jointly': 'RB', 'prepared': 'VBN', 'department': 'NN', 'national': 'JJ', 'institute': 'NN', 'times': 'NNS', 'guidance': 'RB', 'general': 'JJ', 'medical': 'JJ', 'psychosocial': 'NN', 'audio': 'NN', 'visual': 'JJ', 'stigma': 'NN', 'safely': 'RB', 'quit': 'VBD', 'hindi': 'JJ', 'video': 'NN', 'stress': 'NN', 'meditation': 'NN', 'english': 'JJ', 'stop': 'NN', 'drinking': 'NN', 'depression': 'NN', 'social': 'JJ', 'associated': 'VBN', 'knockdown': 'JJ', 'covid': 'NNS', 'elderly': 'RB', 'among': 'IN', 'practical': 'JJ', 'take': 'NN', 'stay': 'NN', 'minding': 'VBG', 'manage': 'NN', 'well': 'RB', 'outbreak': 'RB', 'little': 'JJ', 'desirous': 'JJ', 'setting': 'VBG', 'small': 'JJ', 'facility': 'NN', 'resident': 'NN', 'rate': 'NN', 'test': 'NN', 'central': 'JJ', 'attendance': 'NN', 'religious': 'JJ', 'worship': 'NN', 'shopping': 'NN', 'hospitality': 'NN', 'workplace': 'NN', 'strategy': 'NN', 'testing': 'VBG', 'discharge': 'NN', 'policy': 'NN', 'quarantine': 'NN', 'abroad': 'RB', 'suspect': 'JJ', 'confirmed': 'JJ', 'private': 'JJ', 'disinfectant': 'NN', 'people': 'NNS', 'cum': 'VBP', 'bid': 'NN', 'document': 'NN', 'procurement': 'NN', 'oxygen': 'NN', 'cylinder': 'NN', 'urgent': 'JJ', 'basis': 'NN', 'situation': 'NN', 'dialysis': 'NN', 'scheme': 'NN', 'advise': 'NN', 'immunity': 'NN', 'self': 'PRP', 'crisis': 'NN', 'handling': 'VBG', 'treatment': 'NN', 'disposal': 'NN', 'waste': 'NN', 'manual': 'JJ', 'homemade': 'NN', 'protective': 'JJ', 'cover': 'NN', 'face': 'NN', 'mouth': 'JJ', 'letter': 'NN', 'secretary': 'NN', 'human': 'JJ', 'resource': 'NN', 'development': 'NN', 'light': 'NN', 'candle': 'NNS', 'april': 'VBP', 'minute': 'JJ', 'order': 'NN', 'delhi': 'NN', 'house': 'NN', 'lock': 'NN', 'population': 'NN', 'disinfection': 'NN', 'common': 'JJ', 'public': 'JJ', 'office': 'NN', 'special': 'JJ', 'sanction': 'NN', 'view': 'NN', 'corona': 'VBP', 'virus': 'NN', 'gazette': 'NN', 'notification': 'NN', 'schedule': 'NN', 'drug': 'NN', 'sold': 'VBN', 'prescription': 'NN', 'press': 'NN', 'note': 'NN', 'finance': 'NN', 'dead': 'JJ', 'body': 'NN', 'mass': 'NN', 'clinical': 'JJ', 'protocol': 'NN', 'interim': 'JJ', 'blood': 'NN', 'transfusion': 'NN', 'june': 'NN', 'working': 'VBG', 'hospital': 'NN', 'safe': 'JJ', 'practice': 'NN', 'eye': 'NN', 'protection': 'NN', 'essential': 'JJ', 'prophylaxis': 'NN', 'infection': 'NN', 'immunization': 'NN', 'list': 'NN', 'coveralls': 'NNS', 'accredited': 'VBD', 'available': 'JJ', 'following': 'JJ', 'dental': 'JJ', 'rational': 'JJ', 'personal': 'JJ', 'equipment': 'NN', 'approach': 'NN', 'based': 'VBN', 'sampling': 'VBG', 'surveillance': 'NN', 'frequently': 'RB', 'detection': 'NN', 'case': 'NN', 'modification': 'NN', 'medicine': 'NN', 'rapid': 'JJ', 'antibody': 'NN', 'new': 'JJ', 'feasibility': 'NN', 'molecular': 'JJ', 'coverage': 'NN', 'taking': 'VBG', 'nation': 'NN', 'gif': 'NN', 'pregnancy': 'NN', 'labour': 'VBP', 'voluntary': 'JJ', 'donation': 'NN', 'scenario': 'NN', 'different': 'JJ', 'appropriate': 'JJ', 'ventilator': 'NN', 'transporting': 'VBG', 'allocation': 'NN', 'nursing': 'VBG', 'part': 'NN', 'delivery': 'NN', 'consumer': 'NN', 'food': 'NN', 'distribution': 'NN', 'ensure': 'VB', 'availability': 'NN', 'ethyl': 'JJ', 'hand': 'NN', 'council': 'NN', 'research': 'NN', 'affected': 'VBD', 'novel': 'JJ', 'mock': 'NN', 'drill': 'VB', 'preparedness': 'JJ', 'control': 'NN', 'sample': 'NN', 'collection': 'NN', 'transportation': 'NN', 'obstetric': 'JJ', 'platform': 'NN', 'mechanical': 'JJ', 'ventilation': 'NN', 'second': 'JJ', 'master': 'NN', 'ventilatory': 'NN', 'epidemiology': 'NN', 'district': 'NN', 'wise': 'NN', 'login': 'NN', 'antigen': 'NN', 'cluster': 'NN', 'containment': 'NN', 'plan': 'NN', 'large': 'JJ', 'response': 'NN', 'urban': 'JJ', 'safety': 'NN', 'regarding': 'VBG', 'promotion': 'NN', 'effective': 'JJ', 'water': 'NN', 'due': 'JJ', 'security': 'NN', 'staff': 'NN', 'exemption': 'NN', 'fishing': 'NN', 'funds': 'NNS', 'emergency': 'NN', 'system': 'NN', 'rural': 'JJ', 'taken': 'VBN', 'address': 'NN', 'room': 'NN', 'contact': 'NN', 'industrial': 'JJ', 'association': 'NN', 'provide': 'VBP', 'chief': 'JJ', 'connection': 'NN', 'supreme': 'NN', 'court': 'NN', 'migrant': 'NN', 'trained': 'VBD', 'youth': 'RB', 'dayal': 'JJ', 'preliminary': 'JJ', 'stakeholder': 'NN', 'engagement': 'NN', 'project': 'NN', 'environmental': 'JJ', 'commitment': 'JJ', 'goods': 'NNS', 'pharmaceutical': 'JJ', 'authority': 'NN', 'cabinet': 'NN', 'temporary': 'JJ', 'need': 'VBP', 'stringent': 'JJ', 'annexure': 'NN', 'shipping': 'VBG', 'smooth': 'JJ', 'carrying': 'VBG', 'model': 'NN', 'local': 'JJ', 'transmission': 'NN', 'authorized': 'VBD', 'prohibitory': 'NN', 'imposing': 'VBG', 'higher': 'JJR', 'education': 'NN', 'sports': 'NNS', 'production': 'NN', 'quality': 'NN', 'educational': 'JJ', 'examination': 'NN', 'assistance': 'NN', 'disaster': 'NN', 'fund': 'NN', 'wake': 'NN', 'act': 'NN', 'mark': 'NN', 'biometric': 'JJ', 'reimbursement': 'NN', 'validity': 'NN', 'card': 'NN', 'stand': 'VBP', 'together': 'RB', 'counter': 'JJ', 'discrimination': 'NN', 'supporting': 'VBG', 'extending': 'VBG', 'showing': 'VBG', 'sanitation': 'NN', 'helping': 'VBG', 'fight': 'JJ', 'battle': 'NN', 'thanks': 'NNS', 'illustrative': 'JJ', 'guide': 'NN', 'spit': 'NN', 'increase': 'NN', 'risk': 'NN', 'advocate': 'VBP', 'spitting': 'VBG', 'normal': 'JJ', 'mild': 'JJ', 'bank': 'NN', 'myth': 'NN', 'thank': 'JJ', 'front': 'JJ', 'line': 'NN', 'punjabi': 'NN', 'bengali': 'NN', 'marathi': 'NN', 'malayalam': 'NN', 'tamil': 'NN', 'gujrati': 'NN', 'information': 'NN', 'necessary': 'JJ', 'poster': 'NN', 'informed': 'VBN', 'alert': 'JJ', 'initiative': 'JJ', 'develop': 'NN', 'digital': 'JJ', 'bridge': 'NN', 'today': 'NN', 'play': 'VBP', 'store': 'NN', 'pertaining': 'NN', 'basic': 'JJ', 'washing': 'VBG', 'market': 'NN', 'place': 'NN', 'community': 'NN', 'leaflet': 'VBP', 'ready': 'JJ', 'wear': 'NN', 'mask': 'NN', 'protect': 'VBP', 'hygiene': 'NN', 'suspected': 'VBN', 'worker': 'NN', 'facilitator': 'NN', 'seven': 'CD', 'sessions': 'NNS', 'pocket': 'VBP', 'book': 'NN', 'template': 'NN', 'get': 'NN', 'tested': 'VBN', 'role': 'NN', 'kids': 'NNS', 'comic': 'JJ', 'correct': 'JJ', 'traveling': 'VBG', 'radio': 'NN', 'tribute': 'NN', 'around': 'IN', 'discriminate': 'NN', 'see': 'VBP', 'disclaimer': 'JJ', 'content': 'NN', 'goi': 'NN', 'design': 'NN'}\n"
     ]
    }
   ],
   "source": [
    "my_dict=dict(tags)\n",
    "print(my_dict)"
   ]
  },
  {
   "cell_type": "code",
   "execution_count": 5,
   "metadata": {},
   "outputs": [],
   "source": [
    "noun_words_list=[]\n",
    "#print(type(a))\n",
    "for i in my_dict:\n",
    "      if my_dict[i] == 'NN':\n",
    "            #print(i)\n",
    "            noun_words_list.append(i)\n",
    "            #print(a)\n",
    "     "
   ]
  },
  {
   "cell_type": "code",
   "execution_count": 6,
   "metadata": {},
   "outputs": [
    {
     "name": "stdout",
     "output_type": "stream",
     "text": [
      "['home', 'travel', 'health', 'material', 'awareness', 'series', 'service', 'year', 'screen', 'reader', 'site', 'ministry', 'family', 'welfare', 'government', 'search', 'number', 'toll', 'union', 'august', 'ist', 'status', 'change', 'yesterday', 'total', 'day', 'enquiry', 'respect', 'extension', 'package', 'insurance', 'period', 'contain', 'spread', 'yoga', 'talk', 'tobacco', 'use', 'click', 'expand', 'name', 'state', 'bus', 'standard', 'procedure', 'passenger', 'movement', 'post', 'disembarkation', 'traffic', 'land', 'check', 'visa', 'bureau', 'immigration', 'meeting', 'level', 'group', 'prevention', 'management', 'sop', 'cruise', 'isolation', 'care', 'support', 'department', 'institute', 'psychosocial', 'audio', 'stigma', 'video', 'stress', 'meditation', 'stop', 'drinking', 'depression', 'take', 'stay', 'manage', 'facility', 'resident', 'rate', 'test', 'attendance', 'worship', 'shopping', 'hospitality', 'workplace', 'strategy', 'discharge', 'policy', 'quarantine', 'disinfectant', 'bid', 'document', 'procurement', 'oxygen', 'cylinder', 'basis', 'situation', 'dialysis', 'scheme', 'advise', 'immunity', 'crisis', 'treatment', 'disposal', 'waste', 'homemade', 'cover', 'face', 'letter', 'secretary', 'resource', 'development', 'light', 'order', 'delhi', 'house', 'lock', 'population', 'disinfection', 'office', 'sanction', 'view', 'virus', 'gazette', 'notification', 'schedule', 'drug', 'prescription', 'press', 'note', 'finance', 'body', 'mass', 'protocol', 'blood', 'transfusion', 'june', 'hospital', 'practice', 'eye', 'protection', 'prophylaxis', 'infection', 'immunization', 'list', 'equipment', 'approach', 'surveillance', 'detection', 'case', 'modification', 'medicine', 'antibody', 'feasibility', 'coverage', 'nation', 'gif', 'pregnancy', 'donation', 'scenario', 'ventilator', 'allocation', 'part', 'delivery', 'consumer', 'food', 'distribution', 'availability', 'hand', 'council', 'research', 'mock', 'control', 'sample', 'collection', 'transportation', 'platform', 'ventilation', 'master', 'ventilatory', 'epidemiology', 'district', 'wise', 'login', 'antigen', 'cluster', 'containment', 'plan', 'response', 'safety', 'promotion', 'water', 'security', 'staff', 'exemption', 'fishing', 'emergency', 'system', 'address', 'room', 'contact', 'association', 'connection', 'supreme', 'court', 'migrant', 'stakeholder', 'engagement', 'project', 'authority', 'cabinet', 'annexure', 'model', 'transmission', 'prohibitory', 'education', 'production', 'quality', 'examination', 'assistance', 'disaster', 'fund', 'wake', 'act', 'mark', 'reimbursement', 'validity', 'card', 'discrimination', 'sanitation', 'battle', 'guide', 'spit', 'increase', 'risk', 'bank', 'myth', 'line', 'punjabi', 'bengali', 'marathi', 'malayalam', 'tamil', 'gujrati', 'information', 'poster', 'develop', 'bridge', 'today', 'store', 'pertaining', 'market', 'place', 'community', 'wear', 'mask', 'hygiene', 'worker', 'facilitator', 'book', 'template', 'get', 'role', 'radio', 'tribute', 'discriminate', 'content', 'goi', 'design'] 272\n"
     ]
    }
   ],
   "source": [
    "print(noun_words_list,len(noun_words_list))\n"
   ]
  },
  {
   "cell_type": "code",
   "execution_count": 7,
   "metadata": {},
   "outputs": [
    {
     "name": "stdout",
     "output_type": "stream",
     "text": [
      "{'standard', 'house', 'schedule', 'material', 'immunity', 'place', 'promotion', 'security', 'body', 'family', 'bureau', 'meditation', 'exemption', 'role', 'pertaining', 'transfusion', 'status', 'mask', 'light', 'allocation', 'develop', 'malayalam', 'eye', 'depression', 'group', 'guide', 'worker', 'homemade', 'spread', 'discriminate', 'order', 'name', 'delivery', 'blood', 'scheme', 'antigen', 'plan', 'market', 'address', 'stress', 'discharge', 'staff', 'toll', 'yesterday', 'enquiry', 'sanction', 'bank', 'template', 'change', 'traffic', 'room', 'land', 'bengali', 'package', 'epidemiology', 'book', 'sop', 'expand', 'movement', 'strategy', 'control', 'government', 'mark', 'procurement', 'battle', 'population', 'virus', 'medicine', 'antibody', 'wise', 'wear', 'crisis', 'safety', 'case', 'infection', 'mock', 'health', 'number', 'insurance', 'psychosocial', 'login', 'hospital', 'facility', 'nation', 'contain', 'disembarkation', 'hospitality', 'donation', 'court', 'transmission', 'master', 'ventilation', 'hand', 'total', 'note', 'level', 'video', 'ventilator', 'lock', 'prescription', 'workplace', 'department', 'post', 'disinfection', 'situation', 'tribute', 'resource', 'use', 'service', 'model', 'office', 'risk', 'tamil', 'association', 'reader', 'extension', 'practice', 'response', 'series', 'view', 'emergency', 'institute', 'disinfectant', 'transportation', 'document', 'list', 'act', 'advise', 'talk', 'cylinder', 'prohibitory', 'stakeholder', 'protection', 'connection', 'drinking', 'gujrati', 'sanitation', 'examination', 'containment', 'waste', 'system', 'august', 'press', 'manage', 'tobacco', 'audio', 'radio', 'goi', 'dialysis', 'discrimination', 'care', 'ventilatory', 'food', 'get', 'site', 'content', 'community', 'consumer', 'marathi', 'design', 'visa', 'union', 'oxygen', 'awareness', 'passenger', 'prophylaxis', 'cluster', 'search', 'prevention', 'secretary', 'increase', 'worship', 'welfare', 'immigration', 'face', 'hygiene', 'validity', 'bridge', 'june', 'test', 'cover', 'contact', 'bus', 'collection', 'year', 'procedure', 'attendance', 'part', 'line', 'treatment', 'immunization', 'isolation', 'notification', 'supreme', 'quality', 'spit', 'distribution', 'management', 'today', 'stigma', 'punjabi', 'pregnancy', 'day', 'store', 'letter', 'availability', 'production', 'facilitator', 'surveillance', 'take', 'quarantine', 'stay', 'bid', 'finance', 'ist', 'respect', 'assistance', 'gazette', 'yoga', 'scenario', 'shopping', 'click', 'myth', 'support', 'council', 'development', 'stop', 'drug', 'ministry', 'platform', 'wake', 'resident', 'information', 'migrant', 'policy', 'check', 'district', 'equipment', 'protocol', 'sample', 'card', 'rate', 'authority', 'reimbursement', 'disaster', 'approach', 'cruise', 'feasibility', 'fishing', 'project', 'fund', 'state', 'period', 'travel', 'gif', 'engagement', 'home', 'research', 'annexure', 'delhi', 'modification', 'meeting', 'disposal', 'screen', 'basis', 'coverage', 'water', 'cabinet', 'education', 'mass', 'poster', 'detection'} 272\n"
     ]
    }
   ],
   "source": [
    "noun_words_set=set(noun_words_list)\n",
    "print(noun_words_set,len(noun_words_set))"
   ]
  },
  {
   "cell_type": "code",
   "execution_count": 8,
   "metadata": {},
   "outputs": [
    {
     "name": "stdout",
     "output_type": "stream",
     "text": [
      "<csv.DictReader object at 0x7efd160ac790>\n",
      "house\n",
      "management\n",
      "medicine\n",
      "community\n",
      "union\n",
      "place\n",
      "welfare\n",
      "medicine\n",
      "design\n",
      "take\n",
      "guide\n",
      "stress\n",
      "safety\n",
      "note\n",
      "hygiene\n",
      "research\n",
      "state\n",
      "role\n",
      "education\n",
      "strategy\n",
      "information\n",
      "insurance\n",
      "homemade\n",
      "hygiene\n",
      "family\n",
      "water\n",
      "insurance\n",
      "['Home', 'Business', 'Health', 'Society', 'Recreation', 'Home', 'Health', 'Science', 'Arts', 'Recreation', 'Reference', 'Health', 'Health', 'Reference', 'Health', 'Health', 'Politics', 'Society', 'Health', 'Games', 'Computers', 'Health', 'Home', 'Science', 'Health', 'Health', 'Business']\n",
      "Counter({'Health': 10, 'Home': 3, 'Business': 2, 'Society': 2, 'Recreation': 2, 'Science': 2, 'Reference': 2, 'Arts': 1, 'Politics': 1, 'Games': 1, 'Computers': 1})\n",
      "\n",
      "Maximum number of words are from category : Health\n",
      "Hence the text given belongs to category : Health\n"
     ]
    },
    {
     "data": {
      "image/png": "[encoded data removed]",
      "text/plain": [
       "<Figure size 432x288 with 1 Axes>"
      ]
     },
     "metadata": {
      "needs_background": "light"
     },
     "output_type": "display_data"
    },
    {
     "name": "stdout",
     "output_type": "stream",
     "text": [
      "maximum no of word are from category : Health\n"
     ]
    }
   ],
   "source": [
    "import csv\n",
    "#plt=pd.read_csv('words.csv')\n",
    "#plt.head\n",
    "\n",
    "new_list=[]\n",
    "with open('words.csv','r') as abc:\n",
    "    new_dict=csv.DictReader(abc)\n",
    "    print(new_dict)\n",
    "    for row in new_dict:\n",
    "        result=dict(row)\n",
    "        #print(result)\n",
    "        for key,value in result.items():\n",
    "             if value in noun_words_list:\n",
    "                    print(value)\n",
    "                    new_list.append(key)\n",
    "print(new_list)\n",
    "\n",
    "final_words=Counter(new_list)\n",
    "print(final_words)\n",
    "\n",
    "v=list(final_words.values())\n",
    "k=list(final_words.keys())\n",
    "print()\n",
    "print(\"Maximum number of words are from category :\", k[v.index(max(v))] )\n",
    "print(\"Hence the text given belongs to category :\", k[v.index(max(v))] ) \n",
    "\n",
    "\n",
    "\n",
    "fig, ax1 = plt.subplots()\n",
    "ax1.bar(final_words.keys(), final_words.values())\n",
    "fig.autofmt_xdate()\n",
    "plt.savefig('graph.png')\n",
    "plt.show()   \n",
    "print(\"maximum no of word are from category :\", k[v.index(max(v))] ) \n"
   ]
  },
  {
   "cell_type": "code",
   "execution_count": 9,
   "metadata": {},
   "outputs": [
    {
     "name": "stdout",
     "output_type": "stream",
     "text": [
      "<csv.DictReader object at 0x7efd160ac450>\n",
      "27\n",
      "['house', 'management', 'medicine', 'community', 'union', 'place', 'welfare', 'medicine', 'design', 'take', 'guide', 'stress', 'safety', 'note', 'hygiene', 'research', 'state', 'role', 'education', 'strategy', 'information', 'insurance', 'homemade', 'hygiene', 'family', 'water', 'insurance']\n"
     ]
    }
   ],
   "source": [
    "import csv\n",
    "new_list=[]\n",
    "extract_words=[]\n",
    "with open('words.csv','r') as abc:\n",
    "    new_dict=csv.DictReader(abc)\n",
    "    print(new_dict)\n",
    "    for row in new_dict:\n",
    "        result=dict(row)\n",
    "        #print (result)\n",
    "        for key,value in result.items():\n",
    "            if value in noun_words_list:\n",
    "                #print(value)\n",
    "                extract_words.append(value)\n",
    "    print(len(extract_words))\n",
    "    print(extract_words)"
   ]
  },
  {
   "cell_type": "code",
   "execution_count": 10,
   "metadata": {},
   "outputs": [
    {
     "name": "stdout",
     "output_type": "stream",
     "text": [
      "['house', 'management', 'medicine', 'community', 'union', 'place', 'welfare', 'medicine', 'design', 'take', 'guide', 'stress', 'safety', 'note', 'hygiene', 'research', 'state', 'role', 'education', 'strategy', 'information', 'insurance', 'homemade', 'hygiene', 'family', 'water', 'insurance']\n"
     ]
    }
   ],
   "source": [
    "print(extract_words)"
   ]
  },
  {
   "cell_type": "code",
   "execution_count": 11,
   "metadata": {},
   "outputs": [
    {
     "data": {
      "text/html": [
       "<div>\n",
       "<style scoped>\n",
       "    .dataframe tbody tr th:only-of-type {\n",
       "        vertical-align: middle;\n",
       "    }\n",
       "\n",
       "    .dataframe tbody tr th {\n",
       "        vertical-align: top;\n",
       "    }\n",
       "\n",
       "    .dataframe thead th {\n",
       "        text-align: right;\n",
       "    }\n",
       "</style>\n",
       "<table border=\"1\" class=\"dataframe\">\n",
       "  <thead>\n",
       "    <tr style=\"text-align: right;\">\n",
       "      <th></th>\n",
       "      <th>Words</th>\n",
       "      <th>Labels1</th>\n",
       "    </tr>\n",
       "  </thead>\n",
       "  <tbody>\n",
       "    <tr>\n",
       "      <th>0</th>\n",
       "      <td>disease</td>\n",
       "      <td>Health &amp; Science</td>\n",
       "    </tr>\n",
       "    <tr>\n",
       "      <th>1</th>\n",
       "      <td>obesity</td>\n",
       "      <td>Health &amp; Science</td>\n",
       "    </tr>\n",
       "    <tr>\n",
       "      <th>2</th>\n",
       "      <td>who</td>\n",
       "      <td>Health &amp; Science</td>\n",
       "    </tr>\n",
       "    <tr>\n",
       "      <th>3</th>\n",
       "      <td>medicine</td>\n",
       "      <td>Health &amp; Science</td>\n",
       "    </tr>\n",
       "    <tr>\n",
       "      <th>4</th>\n",
       "      <td>nutrition</td>\n",
       "      <td>Health &amp; Science</td>\n",
       "    </tr>\n",
       "    <tr>\n",
       "      <th>...</th>\n",
       "      <td>...</td>\n",
       "      <td>...</td>\n",
       "    </tr>\n",
       "    <tr>\n",
       "      <th>496</th>\n",
       "      <td>reveal</td>\n",
       "      <td>Politics &amp; Society</td>\n",
       "    </tr>\n",
       "    <tr>\n",
       "      <th>497</th>\n",
       "      <td>pac</td>\n",
       "      <td>Politics &amp; Society</td>\n",
       "    </tr>\n",
       "    <tr>\n",
       "      <th>498</th>\n",
       "      <td>nepotism</td>\n",
       "      <td>Politics &amp; Society</td>\n",
       "    </tr>\n",
       "    <tr>\n",
       "      <th>499</th>\n",
       "      <td>liberty</td>\n",
       "      <td>Politics &amp; Society</td>\n",
       "    </tr>\n",
       "    <tr>\n",
       "      <th>500</th>\n",
       "      <td>gop</td>\n",
       "      <td>Politics &amp; Society</td>\n",
       "    </tr>\n",
       "  </tbody>\n",
       "</table>\n",
       "<p>501 rows × 2 columns</p>\n",
       "</div>"
      ],
      "text/plain": [
       "         Words             Labels1\n",
       "0      disease    Health & Science\n",
       "1      obesity    Health & Science\n",
       "2          who    Health & Science\n",
       "3     medicine    Health & Science\n",
       "4    nutrition    Health & Science\n",
       "..         ...                 ...\n",
       "496     reveal  Politics & Society\n",
       "497        pac  Politics & Society\n",
       "498   nepotism  Politics & Society\n",
       "499    liberty  Politics & Society\n",
       "500        gop  Politics & Society\n",
       "\n",
       "[501 rows x 2 columns]"
      ]
     },
     "execution_count": 11,
     "metadata": {},
     "output_type": "execute_result"
    }
   ],
   "source": [
    "import pandas as pd\n",
    "df=pd.read_csv('w1.csv')\n",
    "df"
   ]
  },
  {
   "cell_type": "code",
   "execution_count": 12,
   "metadata": {},
   "outputs": [
    {
     "name": "stdout",
     "output_type": "stream",
     "text": [
      "<class 'pandas.core.frame.DataFrame'>\n",
      "RangeIndex: 501 entries, 0 to 500\n",
      "Data columns (total 2 columns):\n",
      "Words      501 non-null object\n",
      "Labels1    501 non-null object\n",
      "dtypes: object(2)\n",
      "memory usage: 8.0+ KB\n",
      "None\n",
      "1002\n",
      "(501, 2)\n"
     ]
    }
   ],
   "source": [
    "print(df.info())\n",
    "print(df.size)\n",
    "print(df.shape)\n"
   ]
  },
  {
   "cell_type": "code",
   "execution_count": 13,
   "metadata": {},
   "outputs": [
    {
     "data": {
      "text/html": [
       "<div>\n",
       "<style scoped>\n",
       "    .dataframe tbody tr th:only-of-type {\n",
       "        vertical-align: middle;\n",
       "    }\n",
       "\n",
       "    .dataframe tbody tr th {\n",
       "        vertical-align: top;\n",
       "    }\n",
       "\n",
       "    .dataframe thead th {\n",
       "        text-align: right;\n",
       "    }\n",
       "</style>\n",
       "<table border=\"1\" class=\"dataframe\">\n",
       "  <thead>\n",
       "    <tr style=\"text-align: right;\">\n",
       "      <th></th>\n",
       "      <th>Words</th>\n",
       "      <th>Labels1</th>\n",
       "      <th>Labeled_Data</th>\n",
       "    </tr>\n",
       "  </thead>\n",
       "  <tbody>\n",
       "    <tr>\n",
       "      <th>0</th>\n",
       "      <td>disease</td>\n",
       "      <td>Health &amp; Science</td>\n",
       "      <td>3</td>\n",
       "    </tr>\n",
       "    <tr>\n",
       "      <th>1</th>\n",
       "      <td>obesity</td>\n",
       "      <td>Health &amp; Science</td>\n",
       "      <td>3</td>\n",
       "    </tr>\n",
       "    <tr>\n",
       "      <th>2</th>\n",
       "      <td>who</td>\n",
       "      <td>Health &amp; Science</td>\n",
       "      <td>3</td>\n",
       "    </tr>\n",
       "    <tr>\n",
       "      <th>3</th>\n",
       "      <td>medicine</td>\n",
       "      <td>Health &amp; Science</td>\n",
       "      <td>3</td>\n",
       "    </tr>\n",
       "    <tr>\n",
       "      <th>4</th>\n",
       "      <td>nutrition</td>\n",
       "      <td>Health &amp; Science</td>\n",
       "      <td>3</td>\n",
       "    </tr>\n",
       "    <tr>\n",
       "      <th>...</th>\n",
       "      <td>...</td>\n",
       "      <td>...</td>\n",
       "      <td>...</td>\n",
       "    </tr>\n",
       "    <tr>\n",
       "      <th>496</th>\n",
       "      <td>reveal</td>\n",
       "      <td>Politics &amp; Society</td>\n",
       "      <td>4</td>\n",
       "    </tr>\n",
       "    <tr>\n",
       "      <th>497</th>\n",
       "      <td>pac</td>\n",
       "      <td>Politics &amp; Society</td>\n",
       "      <td>4</td>\n",
       "    </tr>\n",
       "    <tr>\n",
       "      <th>498</th>\n",
       "      <td>nepotism</td>\n",
       "      <td>Politics &amp; Society</td>\n",
       "      <td>4</td>\n",
       "    </tr>\n",
       "    <tr>\n",
       "      <th>499</th>\n",
       "      <td>liberty</td>\n",
       "      <td>Politics &amp; Society</td>\n",
       "      <td>4</td>\n",
       "    </tr>\n",
       "    <tr>\n",
       "      <th>500</th>\n",
       "      <td>gop</td>\n",
       "      <td>Politics &amp; Society</td>\n",
       "      <td>4</td>\n",
       "    </tr>\n",
       "  </tbody>\n",
       "</table>\n",
       "<p>501 rows × 3 columns</p>\n",
       "</div>"
      ],
      "text/plain": [
       "         Words             Labels1  Labeled_Data\n",
       "0      disease    Health & Science             3\n",
       "1      obesity    Health & Science             3\n",
       "2          who    Health & Science             3\n",
       "3     medicine    Health & Science             3\n",
       "4    nutrition    Health & Science             3\n",
       "..         ...                 ...           ...\n",
       "496     reveal  Politics & Society             4\n",
       "497        pac  Politics & Society             4\n",
       "498   nepotism  Politics & Society             4\n",
       "499    liberty  Politics & Society             4\n",
       "500        gop  Politics & Society             4\n",
       "\n",
       "[501 rows x 3 columns]"
      ]
     },
     "execution_count": 13,
     "metadata": {},
     "output_type": "execute_result"
    }
   ],
   "source": [
    "#Labels\n",
    "from sklearn.preprocessing import LabelEncoder\n",
    "\n",
    "label_encoder = LabelEncoder()\n",
    "df['Labeled_Data'] = label_encoder.fit_transform(df['Labels1'])\n",
    "df"
   ]
  },
  {
   "cell_type": "code",
   "execution_count": 14,
   "metadata": {},
   "outputs": [],
   "source": [
    "x=df['Words']\n",
    "y=df['Labeled_Data']\n"
   ]
  },
  {
   "cell_type": "code",
   "execution_count": 15,
   "metadata": {},
   "outputs": [
    {
     "name": "stdout",
     "output_type": "stream",
     "text": [
      "(501, 499)\n",
      "<class 'scipy.sparse.csr.csr_matrix'>\n"
     ]
    },
    {
     "data": {
      "text/plain": [
       "<501x499 sparse matrix of type '<class 'numpy.int64'>'\n",
       "\twith 543 stored elements in Compressed Sparse Row format>"
      ]
     },
     "execution_count": 15,
     "metadata": {},
     "output_type": "execute_result"
    }
   ],
   "source": [
    "#Features\n",
    "from sklearn.feature_extraction.text import CountVectorizer  \n",
    "cv=CountVectorizer(max_features=500)\n",
    "cv.fit(x)\n",
    "X= cv.fit_transform(x)\n",
    "print(X.shape)\n",
    "print(type(X))\n",
    "X"
   ]
  },
  {
   "cell_type": "code",
   "execution_count": 16,
   "metadata": {},
   "outputs": [
    {
     "name": "stdout",
     "output_type": "stream",
     "text": [
      "(350, 499)\n",
      "(350,)\n",
      "501 <class 'scipy.sparse.csr.csr_matrix'>\n",
      "501 <class 'pandas.core.series.Series'>\n"
     ]
    }
   ],
   "source": [
    "from sklearn.model_selection import train_test_split\n",
    "\n",
    "x_train, x_test, y_train, y_test = train_test_split(X,y,test_size=0.3, random_state=42)\n",
    "print(x_train.shape)\n",
    "print(y_train.shape)\n",
    "\n",
    "print(x.size,type(X))\n",
    "print(y.size,type(y))\n"
   ]
  },
  {
   "cell_type": "code",
   "execution_count": 17,
   "metadata": {},
   "outputs": [
    {
     "data": {
      "text/plain": [
       "SVC(C=1.0, break_ties=False, cache_size=200, class_weight=None, coef0=0.0,\n",
       "    decision_function_shape='ovr', degree=1, gamma='scale', kernel='poly',\n",
       "    max_iter=-1, probability=False, random_state=42, shrinking=True, tol=0.001,\n",
       "    verbose=False)"
      ]
     },
     "execution_count": 17,
     "metadata": {},
     "output_type": "execute_result"
    }
   ],
   "source": [
    "from sklearn.svm import SVC\n",
    "classifier=SVC(kernel='poly',degree=1,random_state=42)\n",
    "classifier.fit(x_train,y_train)"
   ]
  },
  {
   "cell_type": "code",
   "execution_count": 18,
   "metadata": {},
   "outputs": [
    {
     "name": "stdout",
     "output_type": "stream",
     "text": [
      "[0 0 0 0 0 0 0 4 0 0 3 0 0 0 0 0 0 0 0 0 0 0 0 0 0 0 0 0 0 0 2 0 0 0 0 0 0\n",
      " 0 0 1 0 0 0 0 0 0 0 0 0 3 0 0 0 4 0 0 0 0 0 0 0 4 0 0 0 0 0 0 0 0 0 0 0 0\n",
      " 0 0 4 0 0 0 0 2 0 0 0 0 0 0 3 0 0 0 0 0 0 0 0 0 0 0 0 0 1 1 0 0 0 0 0 0 4\n",
      " 0 0 0 0 0 0 0 0 0 0 3 0 0 0 0 0 0 0 1 0 0 4 0 4 0 0 0 0 4 0 0 0 0 0 4 0 0\n",
      " 0 0 0]\n",
      "Correctly predicted & wrongly predicted [[21  0  1  1  1]\n",
      " [30  1  0  0  0]\n",
      " [23  0  1  0  0]\n",
      " [33  3  0  3  0]\n",
      " [25  0  0  0  8]]\n",
      "Accuracy 0.2251655629139073\n"
     ]
    }
   ],
   "source": [
    "y_pred=classifier.predict(x_test)\n",
    "print(y_pred)\n",
    "\n",
    "from sklearn.metrics import confusion_matrix\n",
    "confusion_m=confusion_matrix(y_test,y_pred)\n",
    "print(\"Correctly predicted & wrongly predicted\",confusion_m) #27 entries wrongly predicted 1088 entries correctly predicted.\n",
    "\n",
    "from sklearn.metrics import accuracy_score\n",
    "accuracy=accuracy_score(y_test,y_pred)\n",
    "print(\"Accuracy\",accuracy)"
   ]
  },
  {
   "cell_type": "code",
   "execution_count": 19,
   "metadata": {},
   "outputs": [
    {
     "data": {
      "image/png": "[encoded data removed]",
      "text/plain": [
       "<Figure size 576x432 with 2 Axes>"
      ]
     },
     "metadata": {
      "needs_background": "light"
     },
     "output_type": "display_data"
    }
   ],
   "source": [
    "import seaborn as sns\n",
    "fig, ax = plt.subplots(figsize=(8,6))\n",
    "sns.heatmap(confusion_m, annot=True,color='b')\n",
    "plt.ylabel('Actual')\n",
    "plt.xlabel('Predicted')\n",
    "plt.show()\n"
   ]
  },
  {
   "cell_type": "code",
   "execution_count": 20,
   "metadata": {},
   "outputs": [
    {
     "name": "stdout",
     "output_type": "stream",
     "text": [
      "[0 0 3 4 0 0 3 3 0 0 0 3 0 0 0 3 4 4 1 0 0 0 0 0 3 0 0]\n"
     ]
    }
   ],
   "source": [
    "print(classifier.predict(cv.transform(extract_words)))"
   ]
  },
  {
   "cell_type": "code",
   "execution_count": 21,
   "metadata": {},
   "outputs": [
    {
     "data": {
      "text/html": [
       "<div>\n",
       "<style scoped>\n",
       "    .dataframe tbody tr th:only-of-type {\n",
       "        vertical-align: middle;\n",
       "    }\n",
       "\n",
       "    .dataframe tbody tr th {\n",
       "        vertical-align: top;\n",
       "    }\n",
       "\n",
       "    .dataframe thead th {\n",
       "        text-align: right;\n",
       "    }\n",
       "</style>\n",
       "<table border=\"1\" class=\"dataframe\">\n",
       "  <thead>\n",
       "    <tr style=\"text-align: right;\">\n",
       "      <th></th>\n",
       "      <th>Words</th>\n",
       "      <th>Labels1</th>\n",
       "      <th>Labeled_Data</th>\n",
       "    </tr>\n",
       "  </thead>\n",
       "  <tbody>\n",
       "    <tr>\n",
       "      <th>3</th>\n",
       "      <td>medicine</td>\n",
       "      <td>Health &amp; Science</td>\n",
       "      <td>3</td>\n",
       "    </tr>\n",
       "    <tr>\n",
       "      <th>20</th>\n",
       "      <td>medicine</td>\n",
       "      <td>Health &amp; Science</td>\n",
       "      <td>3</td>\n",
       "    </tr>\n",
       "  </tbody>\n",
       "</table>\n",
       "</div>"
      ],
      "text/plain": [
       "       Words           Labels1  Labeled_Data\n",
       "3   medicine  Health & Science             3\n",
       "20  medicine  Health & Science             3"
      ]
     },
     "execution_count": 21,
     "metadata": {},
     "output_type": "execute_result"
    }
   ],
   "source": [
    "df[df['Words'] =='medicine']"
   ]
  },
  {
   "cell_type": "code",
   "execution_count": 22,
   "metadata": {},
   "outputs": [
    {
     "name": "stdout",
     "output_type": "stream",
     "text": [
      "                        precision    recall  f1-score   support\n",
      "\n",
      "      Health & Science       0.16      0.88      0.27        24\n",
      "Education & Technology       0.25      0.03      0.06        31\n",
      "                 Games       0.50      0.04      0.08        24\n",
      "    Politics & Society       0.75      0.08      0.14        39\n",
      "              Business       0.89      0.24      0.38        33\n",
      "\n",
      "              accuracy                           0.23       151\n",
      "             macro avg       0.51      0.25      0.18       151\n",
      "          weighted avg       0.54      0.23      0.19       151\n",
      "\n"
     ]
    }
   ],
   "source": [
    "from sklearn import metrics\n",
    "print(metrics.classification_report(y_test, y_pred, target_names=df['Labels1'].unique()))"
   ]
  },
  {
   "cell_type": "markdown",
   "metadata": {},
   "source": [
    "from IPython.display import display\n",
    "for predicted in df.Labeled_Data:\n",
    "    for actual in df.Labeled_Data:\n",
    "        if predicted != actual and conf_mat[actual, predicted] >= 6:\n",
    "            print(\"'{}' predicted as '{}' : {} examples.\".format([actual],[predicted], conf_mat[actual, predicted]))\n",
    "            display(df.loc[[(y_test == actual) & (y_pred == predicted)]][['Labeled_Data', 'Words']])"
   ]
  },
  {
   "cell_type": "code",
   "execution_count": null,
   "metadata": {},
   "outputs": [],
   "source": []
  }
 ],
 "metadata": {
  "kernelspec": {
   "display_name": "Python 3",
   "language": "python",
   "name": "python3"
  },
  "language_info": {
   "codemirror_mode": {
    "name": "ipython",
    "version": 3
   },
   "file_extension": ".py",
   "mimetype": "text/x-python",
   "name": "python",
   "nbconvert_exporter": "python",
   "pygments_lexer": "ipython3",
   "version": "3.7.4"
  }
 },
 "nbformat": 4,
 "nbformat_minor": 2
}
